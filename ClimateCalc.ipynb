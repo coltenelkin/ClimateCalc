{
 "cells": [
  {
   "cell_type": "code",
   "execution_count": 17,
   "id": "70c66ba4",
   "metadata": {},
   "outputs": [],
   "source": [
    "# import libraries\n",
    "import pandas as pd\n",
    "import numpy as np\n",
    "from matplotlib import pyplot as plt\n",
    "import matplotlib.dates as mdates\n",
    "%matplotlib qt"
   ]
  },
  {
   "cell_type": "code",
   "execution_count": 110,
   "id": "6ba016c4",
   "metadata": {},
   "outputs": [],
   "source": [
    "# type 1: cleaned climate normals from https://www.ncei.noaa.gov/metadata/geoportal/rest/metadata/item/gov.noaa.ncdc:C00820/html\n",
    "df = pd.read_csv(r\"\\\\dallas\\riveng\\Users\\Colten_Elkin\\UseMeCode\\ClimateCalc\\USC00105414_Climate19812010_clean.csv\", parse_dates = ['DATE'])\n",
    "dayMax = df['DLY-TMAX-NORMAL'].to_numpy()/10 # pull temps, go from tenths of degrees F to degrees F\n",
    "dayMin = df['DLY-TMIN-NORMAL'].to_numpy()/10\n",
    "dayAvg = df['DLY-TAVG-NORMAL'].to_numpy()/10\n",
    "\n",
    "plt.figure(1, figsize = [8, 6])\n",
    "plt.plot(df.DATE, dayMax, 'r', label = 'Average Daily Maximum Temp') # plot max, min, and avg temp\n",
    "plt.plot(df.DATE, dayMin, 'b', label = 'Average Daily Minimum Temp')\n",
    "plt.plot(df.DATE, dayAvg, 'k', label = 'Average Daily Average Temp')\n",
    "\n",
    "plt.plot([df.DATE.iloc[0], df.DATE.iloc[-1]], [32, 32], linestyle = '--', color = 'grey', zorder = 1) # plot the line at freezing\n",
    "\n",
    "plt.gca().set_xlim([df.DATE.iloc[0], df.DATE.iloc[-1]]) # plot aesthetics\n",
    "plt.gca().xaxis.set_major_formatter(mdates.DateFormatter('%b')) \n",
    "plt.gca().xaxis.set_major_locator(mdates.MonthLocator(bymonthday = 20))\n",
    "plt.gcf().autofmt_xdate()\n",
    "plt.gca().tick_params(bottom = False, top = False)\n",
    "plt.gca().set_xlabel('Month')\n",
    "plt.gca().set_ylabel('Temperature [F]')\n",
    "plt.gca().set_title('Lowman, ID\\nUSC00105414')\n",
    "plt.legend()\n",
    "pass\n",
    "\n",
    "monthSummary = {}\n",
    "\n",
    "allDates = np.array([d for d in df.DATE])\n",
    "allMonths = np.array([d.split('-')[-1].lower() for d in allDates])\n",
    "allDays = np.array([d.split('-')[0] for d in allDates]).astype(int)\n",
    "months = ['jan', 'feb', 'mar', 'apr', 'may', 'jun', 'jul', 'aug', 'sep', 'oct', 'nov', 'dec']\n",
    "highs = np.zeros(12)\n",
    "lows = np.zeros(12)\n",
    "avgs = np.zeros(12)\n",
    "for i in range(len(months)):\n",
    "    month = months[i]\n",
    "    dayMaxC = dayMax.copy()\n",
    "    dayMinC = dayMin.copy()\n",
    "    dayAvgC = dayAvg.copy()\n",
    "    allDayC = allDays.copy()\n",
    "\n",
    "    dayMaxC = dayMaxC[allMonths == month]\n",
    "    dayMinC = dayMinC[allMonths == month]\n",
    "    dayAvgC = dayAvgC[allMonths == month]\n",
    "\n",
    "    highs[i] = np.round(np.mean(dayMaxC), decimals = 1)\n",
    "    lows[i] = np.round(np.mean(dayMinC), decimals = 1)\n",
    "    avgs[i] = np.round(np.mean(dayAvgC), decimals = 1)\n",
    "\n",
    "monthSummary['Month'] = months\n",
    "monthSummary['Mean Daily Maximum [F]'] = highs\n",
    "monthSummary['Daily Mean [F]'] = avgs\n",
    "monthSummary['Mean Daily Minimum [F]'] = lows\n",
    "\n",
    "outDf = pd.DataFrame(monthSummary).to_csv('LowmanClimateSummary.csv', index = None)\n",
    "\n"
   ]
  },
  {
   "cell_type": "code",
   "execution_count": null,
   "id": "e0df2b06",
   "metadata": {},
   "outputs": [],
   "source": []
  },
  {
   "cell_type": "code",
   "execution_count": null,
   "id": "dae8347b",
   "metadata": {},
   "outputs": [],
   "source": []
  }
 ],
 "metadata": {
  "kernelspec": {
   "display_name": "base",
   "language": "python",
   "name": "python3"
  },
  "language_info": {
   "codemirror_mode": {
    "name": "ipython",
    "version": 3
   },
   "file_extension": ".py",
   "mimetype": "text/x-python",
   "name": "python",
   "nbconvert_exporter": "python",
   "pygments_lexer": "ipython3",
   "version": "3.9.16"
  }
 },
 "nbformat": 4,
 "nbformat_minor": 5
}
